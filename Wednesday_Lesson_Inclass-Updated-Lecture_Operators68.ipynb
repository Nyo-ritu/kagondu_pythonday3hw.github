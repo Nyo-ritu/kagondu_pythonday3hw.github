{
 "cells": [
  {
   "cell_type": "markdown",
   "metadata": {},
   "source": [
    "# Data Collections 2 (Dictionaries, Sets) and Importing Modules"
   ]
  },
  {
   "cell_type": "markdown",
   "metadata": {},
   "source": [
    "## Tasks Today:\n",
    "\n",
    "1) Dictionary <br>\n",
    " &nbsp;&nbsp;&nbsp;&nbsp; a) Declaring (key, value) <br>\n",
    " &nbsp;&nbsp;&nbsp;&nbsp; b) Accessing Values <br>\n",
    " &nbsp;&nbsp;&nbsp;&nbsp; ------ Exercise #1 - Print the eye color of each person in a double nested dict <br>\n",
    " &nbsp;&nbsp;&nbsp;&nbsp; c) Adding New Pairs <br>\n",
    " &nbsp;&nbsp;&nbsp;&nbsp; d) Modifying Values <br>\n",
    " &nbsp;&nbsp;&nbsp;&nbsp; e) Removing Key, Value Pairs <br>\n",
    " &nbsp;&nbsp;&nbsp;&nbsp; f) Looping a Dictionary <br>\n",
    " &nbsp;&nbsp;&nbsp;&nbsp; g) Looping Only Keys <br>\n",
    " &nbsp;&nbsp;&nbsp;&nbsp; h) Looping Only Values <br>\n",
    " &nbsp;&nbsp;&nbsp;&nbsp; ------ Exercise #2 - Create a Function that Prints All Key Value Pairs within a print .format()  <br>\n",
    " &nbsp;&nbsp;&nbsp;&nbsp; i) sorted() <br>\n",
    " &nbsp;&nbsp;&nbsp;&nbsp; j) Lists with Dictionaries <br>\n",
    " &nbsp;&nbsp;&nbsp;&nbsp; k) Dictionaries with Lists <br>\n",
    " &nbsp;&nbsp;&nbsp;&nbsp; l) Dictionaries with Dictionaries <br>\n",
    " &nbsp;&nbsp;&nbsp;&nbsp; ------ Exercise #3 - Write a Function that asks someone's name and address, and then stores that into a dictionary, which prints all names and addresses after they're done putting information in...  <br>\n",
    "2) Dictionaries vs. Lists (over time)<br>\n",
    "3) Set <br>\n",
    " &nbsp;&nbsp;&nbsp;&nbsp; a) Declaring <br>\n",
    " &nbsp;&nbsp;&nbsp;&nbsp; b) .add() <br>\n",
    " &nbsp;&nbsp;&nbsp;&nbsp; c) .remove() <br>\n",
    " &nbsp;&nbsp;&nbsp;&nbsp; d) .union() <br>\n",
    " &nbsp;&nbsp;&nbsp;&nbsp; e) .intersection() <br>\n",
    " &nbsp;&nbsp;&nbsp;&nbsp; f) .difference() <br>\n",
    " &nbsp;&nbsp;&nbsp;&nbsp; g) Frozen Set <br>\n",
    "4) Modules <br>\n",
    " &nbsp;&nbsp;&nbsp;&nbsp; a) Importing Entire Modules <br>\n",
    " &nbsp;&nbsp;&nbsp;&nbsp; b) Importing Methods Only <br>\n",
    " &nbsp;&nbsp;&nbsp;&nbsp; c) Using the 'as' Keyword <br>\n",
    " &nbsp;&nbsp;&nbsp;&nbsp; d) Creating a Module <br>\n",
    "5) Exercises <br>\n",
    " &nbsp;&nbsp;&nbsp;&nbsp; a) Build a Shopping Cart <br>\n",
    " &nbsp;&nbsp;&nbsp;&nbsp; b) Create Your Own Module <br>"
   ]
  },
  {
   "cell_type": "markdown",
   "metadata": {},
   "source": [
    "## Dictionary <br>\n",
    "<p>A collection of data with 'key:value' pairs. Dictionaries are ordered as of Python 3.6</p>"
   ]
  },
  {
   "cell_type": "markdown",
   "metadata": {},
   "source": [
    "##### Declaring (key, value)"
   ]
  },
  {
   "cell_type": "code",
   "execution_count": 1,
   "metadata": {},
   "outputs": [
    {
     "name": "stdout",
     "output_type": "stream",
     "text": [
      "{}\n",
      "{}\n",
      "{'dave': '255 Main St', 'sean': '522 1st St', 0: 'this is the value for the key of 0', 1: 'this is the value for they key of 1', 27: 'this is the value for the key of 27'}\n"
     ]
    }
   ],
   "source": [
    "#keys must be unique\n",
    "#can use numbers or strings as keys\n",
    "\n",
    "d_1 = {}\n",
    "\n",
    "#or\n",
    "\n",
    "d_2 = dict()\n",
    "\n",
    "print(d_1)\n",
    "print(d_2)\n",
    "\n",
    "#Or we can declare with key: value pairs\n",
    "\n",
    "d_3 = {'dave': '255 Main St',\n",
    "      'sean': '522 1st St',\n",
    "      0: 'this is the value for the key of 0',\n",
    "      1:'this is the value for they key of 1',\n",
    "      27:'this is the value for the key of 27'\n",
    "      }\n",
    "\n",
    "print(d_3)"
   ]
  },
  {
   "cell_type": "markdown",
   "metadata": {},
   "source": [
    "##### Accessing Values"
   ]
  },
  {
   "cell_type": "code",
   "execution_count": 2,
   "metadata": {},
   "outputs": [
    {
     "data": {
      "text/plain": [
       "'this is the value for the key of 27'"
      ]
     },
     "execution_count": 2,
     "metadata": {},
     "output_type": "execute_result"
    }
   ],
   "source": [
    "#dict(key)\n",
    "\n",
    "d_3['dave']\n",
    "d_3[27]"
   ]
  },
  {
   "cell_type": "markdown",
   "metadata": {},
   "source": [
    "## In-Class Exercise #1 - Print a formatted statement from the dictionary below <br>\n",
    "<p>The output should be '2018 Chevrolet Silverado'</p>"
   ]
  },
  {
   "cell_type": "code",
   "execution_count": 3,
   "metadata": {},
   "outputs": [
    {
     "name": "stdout",
     "output_type": "stream",
     "text": [
      "My favorite car is the 2018 Chevrolet Silverado\n"
     ]
    }
   ],
   "source": [
    "# use the dict below\n",
    "#my favorite car is the 2018 chevrolet silverado\n",
    "truck = {\n",
    "    'year': 2018,\n",
    "    'make': 'Chevrolet',\n",
    "    'model': 'Silverado'\n",
    "}\n",
    "print(f'My favorite car is the {truck[\"year\"]} {truck[\"make\"]} {truck[\"model\"]}')"
   ]
  },
  {
   "cell_type": "markdown",
   "metadata": {},
   "source": [
    "##### Adding New Pairs"
   ]
  },
  {
   "cell_type": "code",
   "execution_count": 4,
   "metadata": {},
   "outputs": [
    {
     "name": "stdout",
     "output_type": "stream",
     "text": [
      "{'dave': '255 Main St', 'sean': '522 1st St', 0: 'this is the value for the key of 0', 1: 'this is the value for they key of 1', 27: 'this is the value for the key of 27', 'bob': '151 Main St'}\n"
     ]
    },
    {
     "data": {
      "text/plain": [
       "{'dave': '255 Main St',\n",
       " 'sean': '522 1st St',\n",
       " 0: 'this is the value for the key of 0',\n",
       " 1: 'this is the value for they key of 1',\n",
       " 27: 'this is the value for the key of 27',\n",
       " 'bob': '151 Main St'}"
      ]
     },
     "execution_count": 4,
     "metadata": {},
     "output_type": "execute_result"
    }
   ],
   "source": [
    "#dict[newkey] = value\n",
    "d_3['bob'] = '151 Main St'\n",
    "\n",
    "print(d_3)\n",
    "\n",
    "d_3"
   ]
  },
  {
   "cell_type": "markdown",
   "metadata": {},
   "source": [
    "##### Modifying Values"
   ]
  },
  {
   "cell_type": "code",
   "execution_count": 5,
   "metadata": {},
   "outputs": [
    {
     "data": {
      "text/plain": [
       "{'dave': '255 Main St',\n",
       " 'sean': '522 1st St',\n",
       " 0: 'this is the value for the key of 0',\n",
       " 1: 'this is the value for they key of 1',\n",
       " 27: 'this is the value for the key of 27',\n",
       " 'bob': '333 E Ontario StChicago, IL'}"
      ]
     },
     "execution_count": 5,
     "metadata": {},
     "output_type": "execute_result"
    }
   ],
   "source": [
    "d_3['bob'] = '222 W ontario St'\n",
    "\n",
    "d_3\n",
    "\n",
    "placeholder = '333 E Ontario St'\n",
    "\n",
    "d_3 ['bob'] = placeholder + 'Chicago, IL'\n",
    "d_3"
   ]
  },
  {
   "cell_type": "markdown",
   "metadata": {},
   "source": [
    "##### Removing Key, Value Pairs"
   ]
  },
  {
   "cell_type": "code",
   "execution_count": 6,
   "metadata": {},
   "outputs": [
    {
     "name": "stdout",
     "output_type": "stream",
     "text": [
      "{'dave': '255 Main St', 'sean': '522 1st St', 0: 'this is the value for the key of 0', 1: 'this is the value for they key of 1', 27: 'this is the value for the key of 27', 'bob': '333 E Ontario StChicago, IL'}\n"
     ]
    },
    {
     "data": {
      "text/plain": [
       "{'dave': '255 Main St',\n",
       " 'sean': '522 1st St',\n",
       " 0: 'this is the value for the key of 0',\n",
       " 1: 'this is the value for they key of 1',\n",
       " 27: 'this is the value for the key of 27'}"
      ]
     },
     "execution_count": 6,
     "metadata": {},
     "output_type": "execute_result"
    }
   ],
   "source": [
    "#del dict (key)\n",
    "\n",
    "print(d_3)\n",
    "\n",
    "del d_3['bob']\n",
    "d_3"
   ]
  },
  {
   "cell_type": "markdown",
   "metadata": {},
   "source": [
    "##### Looping a Dictionary"
   ]
  },
  {
   "cell_type": "code",
   "execution_count": 7,
   "metadata": {},
   "outputs": [
    {
     "name": "stdout",
     "output_type": "stream",
     "text": [
      "255 Main St\n",
      "522 1st St\n",
      "this is the value for the key of 0\n",
      "this is the value for they key of 1\n",
      "this is the value for the key of 27\n"
     ]
    }
   ],
   "source": [
    "# .items()\n",
    "# a, b, c = 1, 2, 3\n",
    "# print(a)\n",
    "# print(b)\n",
    "# print(c)\n",
    "\n",
    "#Correct way to access kv pairs in dict\n",
    "\n",
    "# for key, value in d_3.items():\n",
    "#     print(f'Name:{key,} \\nAddress: {value}')\n",
    "    \n",
    "#Another way\n",
    "\n",
    "for item in d_3.items():\n",
    "    print(item[1])"
   ]
  },
  {
   "cell_type": "markdown",
   "metadata": {},
   "source": [
    "##### Looping Only Keys"
   ]
  },
  {
   "cell_type": "code",
   "execution_count": 8,
   "metadata": {},
   "outputs": [
    {
     "name": "stdout",
     "output_type": "stream",
     "text": [
      "dave\n",
      "sean\n",
      "0\n",
      "1\n",
      "27\n"
     ]
    }
   ],
   "source": [
    "# .keys()\n",
    "\n",
    "# d_3.keys()\n",
    "\n",
    "# for i in d_3:\n",
    "#     print[i]\n",
    "\n",
    "for k in d_3.keys():\n",
    "    print(k)"
   ]
  },
  {
   "cell_type": "markdown",
   "metadata": {},
   "source": [
    "##### Looping Only Values"
   ]
  },
  {
   "cell_type": "code",
   "execution_count": 9,
   "metadata": {},
   "outputs": [
    {
     "name": "stdout",
     "output_type": "stream",
     "text": [
      "255 Main St\n",
      "522 1st St\n",
      "this is the value for the key of 0\n",
      "this is the value for they key of 1\n",
      "this is the value for the key of 27\n"
     ]
    }
   ],
   "source": [
    "# .values()\n",
    "\n",
    "d_3.values()\n",
    "\n",
    "for v in d_3.values():\n",
    "    print(v)\n"
   ]
  },
  {
   "cell_type": "markdown",
   "metadata": {},
   "source": [
    "## In-Class Exercise #2 - Create a Function that Prints All Key Value Pairs within a print .format() <br>\n",
    "<p><b>Output should be:</b><br>\n",
    "Max has blue eyes<br>\n",
    "Lilly has brown eyes<br>\n",
    "Barney has blue eyes<br>\n",
    "etc.\n",
    "</p>"
   ]
  },
  {
   "cell_type": "code",
   "execution_count": 10,
   "metadata": {},
   "outputs": [
    {
     "name": "stdout",
     "output_type": "stream",
     "text": [
      "Max has blue eyes\n",
      "Lilly has brown eyes\n",
      "Barney has blue eyes\n",
      "Larney has brown eyes\n",
      "Ted has purple eyes\n"
     ]
    },
    {
     "data": {
      "text/plain": [
       "dict_items([('Max', 'blue'), ('Lilly', 'brown'), ('Barney', 'blue'), ('Larney', 'brown'), ('Ted', 'purple')])"
      ]
     },
     "execution_count": 10,
     "metadata": {},
     "output_type": "execute_result"
    }
   ],
   "source": [
    "# use the dict below\n",
    "\n",
    "people = {\n",
    "    'Max': 'blue',\n",
    "    'Lilly': 'brown',\n",
    "    'Barney': 'blue',\n",
    "    'Larney': 'brown',\n",
    "    'Ted': 'purple'\n",
    "}\n",
    "\n",
    "people_2 = {\n",
    "    'Nate': 'blue',\n",
    "    'Joel': 'brown'\n",
    "}\n",
    "\n",
    "def eyeColor(a_dict):\n",
    "    for key, value in a_dict.items():\n",
    "        print(f'{key} has {value} eyes')\n",
    "    \n",
    "\n",
    "eyeColor(people)\n",
    "\n",
    "people.items()"
   ]
  },
  {
   "cell_type": "markdown",
   "metadata": {},
   "source": [
    "##### sorted()"
   ]
  },
  {
   "cell_type": "code",
   "execution_count": 11,
   "metadata": {},
   "outputs": [
    {
     "name": "stdout",
     "output_type": "stream",
     "text": [
      "[('Barney', 'blue'), ('Larney', 'brown'), ('Lilly', 'brown'), ('Max', 'blue'), ('Ted', 'purple')]\n",
      "['Barney', 'Larney', 'Lilly', 'Max', 'Ted']\n",
      "['blue', 'blue', 'brown', 'brown', 'purple']\n"
     ]
    }
   ],
   "source": [
    "# sorts variables in order\n",
    "# sorted(dict.values()) or dict.keys() or dict.items()\n",
    "\n",
    "print(sorted(people.items()))\n",
    "print(sorted(people.keys()))\n",
    "print(sorted(people.values()))"
   ]
  },
  {
   "cell_type": "markdown",
   "metadata": {},
   "source": [
    "##### List with Dictionaries"
   ]
  },
  {
   "cell_type": "code",
   "execution_count": 12,
   "metadata": {},
   "outputs": [
    {
     "name": "stdout",
     "output_type": "stream",
     "text": [
      "Robert\n",
      "dict_values(['Robert', 'Barb'])\n",
      "Robert\n",
      "Barb\n",
      "Dave\n",
      "Randy\n",
      "Greg\n",
      "Robert\n",
      "Barb\n"
     ]
    }
   ],
   "source": [
    "names = [\"Dave\", \"Randy\", \"Greg\", {\"random_guy\":\"Robert\", \"random_girl\":\"Barb\"}]\n",
    "\n",
    "print(names[3]['random_guy'])\n",
    "\n",
    "#get all values in nested dict\n",
    "print(names[3].values())\n",
    "\n",
    "#get all values in nested dict\n",
    "\n",
    "for v in names[3].values():\n",
    "    print(v)\n",
    "    \n",
    "for name in names:\n",
    "    if type(name) == str:\n",
    "        print(name)\n",
    "    else:\n",
    "        print(name['random_guy'])\n",
    "        print(name['random_girl'])"
   ]
  },
  {
   "cell_type": "markdown",
   "metadata": {},
   "source": [
    "##### Dictionaries with Lists"
   ]
  },
  {
   "cell_type": "code",
   "execution_count": 13,
   "metadata": {},
   "outputs": [
    {
     "name": "stdout",
     "output_type": "stream",
     "text": [
      "7\n"
     ]
    },
    {
     "data": {
      "text/plain": [
       "'Smith'"
      ]
     },
     "execution_count": 13,
     "metadata": {},
     "output_type": "execute_result"
    }
   ],
   "source": [
    "# be careful when using numbers as keys in dictionaries, don't confuse them with indexes\n",
    "random_data= {\n",
    "    'List1': [54,7,11],\n",
    "    \"2\": ['Smith']\n",
    "}\n",
    "\n",
    "\n",
    "print(random_data['List1'][1])\n",
    "\n",
    "random_data['2'][0]"
   ]
  },
  {
   "cell_type": "markdown",
   "metadata": {},
   "source": [
    "##### Dictionaries with Dictionaries"
   ]
  },
  {
   "cell_type": "code",
   "execution_count": 14,
   "metadata": {},
   "outputs": [
    {
     "name": "stdout",
     "output_type": "stream",
     "text": [
      "The CHO ice cream cost $2.99\n",
      "The VA ice cream cost $3.99\n",
      "The Oreo ice cream cost $5.99\n"
     ]
    }
   ],
   "source": [
    "# to get values, must traverse through keys\n",
    "\n",
    "food_dict = {\n",
    "    \"ice_cream\":{\n",
    "        \"CHO\": 2.99,\n",
    "        \"VA\": 3.99,\n",
    "        \"Oreo\": 5.99\n",
    "    },\n",
    "    \"pizza\":{\n",
    "        \"cheese\": 15,\n",
    "        \"pep\": 20\n",
    "    }\n",
    "}\n",
    "\n",
    "food_dict[\"ice_cream\"][\"Oreo\"]\n",
    "\n",
    "#getting k, v, pairs from nested dict\n",
    "for k, v in food_dict['ice_cream'].items():\n",
    "    print(f'The {k} ice cream cost ${v}')"
   ]
  },
  {
   "cell_type": "markdown",
   "metadata": {},
   "source": [
    "## Dictionaries vs. Lists (over time) Example of RUNTIME\n",
    "### When inputting values in a Dictionary vs List"
   ]
  },
  {
   "cell_type": "code",
   "execution_count": 15,
   "metadata": {},
   "outputs": [
    {
     "ename": "NameError",
     "evalue": "name 'd' is not defined",
     "output_type": "error",
     "traceback": [
      "\u001b[1;31m---------------------------------------------------------------------------\u001b[0m",
      "\u001b[1;31mNameError\u001b[0m                                 Traceback (most recent call last)",
      "\u001b[1;32m<ipython-input-15-a7347e18b72f>\u001b[0m in \u001b[0;36m<module>\u001b[1;34m\u001b[0m\n\u001b[0;32m      6\u001b[0m \u001b[1;33m\u001b[0m\u001b[0m\n\u001b[0;32m      7\u001b[0m \u001b[1;32mfor\u001b[0m \u001b[0mi\u001b[0m \u001b[1;32min\u001b[0m \u001b[0mrange\u001b[0m\u001b[1;33m(\u001b[0m\u001b[1;36m10000000\u001b[0m\u001b[1;33m)\u001b[0m\u001b[1;33m:\u001b[0m\u001b[1;33m\u001b[0m\u001b[1;33m\u001b[0m\u001b[0m\n\u001b[1;32m----> 8\u001b[1;33m     \u001b[0md\u001b[0m\u001b[1;33m[\u001b[0m\u001b[0mi\u001b[0m\u001b[1;33m]\u001b[0m \u001b[1;33m=\u001b[0m \u001b[1;34m'value'\u001b[0m\u001b[1;33m\u001b[0m\u001b[1;33m\u001b[0m\u001b[0m\n\u001b[0m\u001b[0;32m      9\u001b[0m \u001b[1;33m\u001b[0m\u001b[0m\n\u001b[0;32m     10\u001b[0m \u001b[1;33m\u001b[0m\u001b[0m\n",
      "\u001b[1;31mNameError\u001b[0m: name 'd' is not defined"
     ]
    }
   ],
   "source": [
    "import time\n",
    "\n",
    "\n",
    "# generate fake dictionary\n",
    "# d = {}\n",
    "\n",
    "for i in range(10000000):\n",
    "    d[i] = 'value'\n",
    "    \n",
    "\n",
    "# generate fake list\n",
    "big_list = [x for x in range(10000000)]"
   ]
  },
  {
   "cell_type": "code",
   "execution_count": null,
   "metadata": {},
   "outputs": [],
   "source": [
    "# tracking time for dictionary\n",
    "start_time = time.time()\n",
    "\n",
    "# print(d[9999999])\n",
    "\n",
    "end_time = time.time() - start_time\n",
    "\n",
    "print('Elapsed time for dictionary: {}'.format(end_time))\n",
    "\n",
    "\n",
    "# tracking time for list\n",
    "start_time = time.time()\n",
    "\n",
    "for i in range(len(big_list)):\n",
    "    if i == 9999999:\n",
    "        print(i)\n",
    "\n",
    "end_time = time.time() - start_time\n",
    "\n",
    "print('Elapsed time for list: {}'.format(end_time))"
   ]
  },
  {
   "cell_type": "markdown",
   "metadata": {},
   "source": [
    "## Exercise #3 - Write a Function that asks someone's name and address, and then stores that into a dictionary, and continues to do so until they choose to 'quit'. Once they quit, the program should print all names and addresses. <br>\n",
    "<p>\n",
    "<b>Proper steps:</b><br>\n",
    "step 1: write a function that takes in information and stores it in a dictionary<br>\n",
    "step 2: define an empty dictionary to work with<br>\n",
    "step 3: create our loop, which asks the user for information until they quit<br>\n",
    "step 4: ask for the information, and store it into variables<br>\n",
    "step 5: check if the user types quit<br>\n",
    "step 5a: print out all information<br>\n",
    "step 5b: break out of the loop<br>\n",
    "step 6: if they didn't quit, add the information to the dictionary<br>\n",
    "step 7: invoke the function by calling it\n",
    "</p>"
   ]
  },
  {
   "cell_type": "code",
   "execution_count": null,
   "metadata": {},
   "outputs": [],
   "source": [
    "from IPython.display import clear_output\n",
    "\n",
    "#step 1\n",
    "\n",
    "def storeInfo():\n",
    "    d = {} #Step 2\n",
    "    \n",
    "    #Step 3\n",
    "    while True:\n",
    "        #Step 4\n",
    "        name = input('Enter a name to store in the address book(type \"quit\" to stop): ')\n",
    "        address = input('Enter the address to be stored in the address book (type \"quit\" to stop): ')\n",
    "        clear_output()\n",
    "        #Step 5\n",
    "        if name.lower() == 'quit' or address.lower() == 'quit':\n",
    "            #Step 5a\n",
    "            for key, value in d.items():\n",
    "                print(f'The address for {key} is {value}')\n",
    "            # Step 5b\n",
    "            break\n",
    "        d[name] = address #part of steps 4 and 6.\n",
    "\n",
    "storeInfo()\n",
    "        "
   ]
  },
  {
   "cell_type": "markdown",
   "metadata": {},
   "source": [
    "## Set <br>\n",
    "<p>A Set is an unordered collection data type that is iterable (loop), mutable, and has no duplicate elements.<br>Major advantage is that it is highly optimized in checking if something is in the set, as opposed to checking if something is in a list.</p>"
   ]
  },
  {
   "cell_type": "markdown",
   "metadata": {},
   "source": [
    "##### Declaring"
   ]
  },
  {
   "cell_type": "code",
   "execution_count": null,
   "metadata": {},
   "outputs": [],
   "source": [
    "# set() or {}\n",
    "# no order {3, 2, 1} outputs as {1, 2, 3}\n",
    "set_1 = {3,2,1,100,50}\n",
    "set_2 = set()"
   ]
  },
  {
   "cell_type": "markdown",
   "metadata": {},
   "source": [
    "##### .add()"
   ]
  },
  {
   "cell_type": "code",
   "execution_count": null,
   "metadata": {},
   "outputs": [],
   "source": [
    "# set.add()\n",
    "set_1.add(2.5)\n",
    "set_1.add(12)\n",
    "set_1\n"
   ]
  },
  {
   "cell_type": "markdown",
   "metadata": {},
   "source": [
    "##### .remove()"
   ]
  },
  {
   "cell_type": "code",
   "execution_count": null,
   "metadata": {},
   "outputs": [],
   "source": [
    "# removes by value\n",
    "# set.remove()\n",
    "# nums.remove(56)\n",
    "\n",
    "# set_1.remove(12)\n",
    "\n",
    "set_1"
   ]
  },
  {
   "cell_type": "markdown",
   "metadata": {},
   "source": [
    "##### .union() "
   ]
  },
  {
   "cell_type": "code",
   "execution_count": null,
   "metadata": {},
   "outputs": [],
   "source": [
    "#Returns a union of two sets, can also use '|' or set.union(set)\n",
    "#joins all numbers, gets rid of duplicates\n",
    "\n",
    "s_1 = {1,2,3,4}\n",
    "s_2 = {3,4,5,6}\n",
    "s_3 = {9,64,128,16,10,32,11,3}\n",
    "\n",
    "s4 = s_1.union(s_2,s_3)\n",
    "print(s4)\n",
    "\n",
    "#or\n",
    "\n",
    "s5 = s_1|s_2\n",
    "print(s5)"
   ]
  },
  {
   "cell_type": "markdown",
   "metadata": {},
   "source": [
    "##### .intersection()"
   ]
  },
  {
   "cell_type": "code",
   "execution_count": null,
   "metadata": {},
   "outputs": [],
   "source": [
    "# Returns an intersection of two sets, can also use '&'\n",
    "# only takes similar elements from both sets\n",
    "\n",
    "# s_6 = set_1 & set_3\n",
    "# print(s_6)\n",
    "\n",
    "s_7 = s_1.intersection(s_2)\n",
    "print(s_7)"
   ]
  },
  {
   "cell_type": "markdown",
   "metadata": {},
   "source": [
    "##### .difference()"
   ]
  },
  {
   "cell_type": "code",
   "execution_count": null,
   "metadata": {},
   "outputs": [],
   "source": [
    "# Returns a set containing all the elements of invoking set that are not in the second set, can also use '-'\n",
    "# only takes values from the first set that are not in the second set\n",
    "# order matters\n",
    "\n",
    "s_1 = {1,2,3,4}\n",
    "s_2 = {3,4,5,6}\n",
    "\n",
    "s_3 = s_1.difference(s_2)\n",
    "print(s_3)\n",
    "\n",
    "s_4 = s_2.difference(s_1)\n",
    "print(s_4)"
   ]
  },
  {
   "cell_type": "markdown",
   "metadata": {},
   "source": [
    "##### .clear()"
   ]
  },
  {
   "cell_type": "code",
   "execution_count": null,
   "metadata": {},
   "outputs": [],
   "source": [
    "# Empties the whole set\n",
    "# set.clear()\n",
    "print(s4)\n",
    "s4.clear()\n",
    "print(s4)"
   ]
  },
  {
   "cell_type": "markdown",
   "metadata": {},
   "source": [
    "##### Frozenset <br>\n",
    "<p>Frozen sets are immutable objects that only support methods and operators that produce a result without affecting the frozen set or sets to which they are applied.</p><br><b>Unique & Immutable</b>"
   ]
  },
  {
   "cell_type": "code",
   "execution_count": null,
   "metadata": {},
   "outputs": [],
   "source": [
    "# frozenset([])\n",
    "\n",
    "my_frozenset = frozenset(s_2)\n",
    "\n",
    "print(my_frozenset)\n",
    "\n",
    "my_frozenset.clear()"
   ]
  },
  {
   "cell_type": "markdown",
   "metadata": {},
   "source": [
    "## Modules"
   ]
  },
  {
   "cell_type": "markdown",
   "metadata": {},
   "source": [
    "##### Importing Entire Modules"
   ]
  },
  {
   "cell_type": "code",
   "execution_count": null,
   "metadata": {},
   "outputs": [],
   "source": [
    "# import or from 'xxx' import *\n",
    "import math # or from import *\n",
    "\n",
    "print(math.pi)\n",
    "\n",
    "print(math.floor(math.pi))\n",
    "print(math.ceil(math.pi))"
   ]
  },
  {
   "cell_type": "markdown",
   "metadata": {},
   "source": [
    "##### Importing Methods Only"
   ]
  },
  {
   "cell_type": "code",
   "execution_count": null,
   "metadata": {},
   "outputs": [],
   "source": [
    "# from 'xxx' import 'xxx'\n",
    "# from math import floor\n",
    "from math import pi, floor\n",
    "\n",
    "print(pi)\n",
    "print(floor(pi))\n",
    "\n"
   ]
  },
  {
   "cell_type": "markdown",
   "metadata": {},
   "source": [
    "##### Using the 'as' Keyword"
   ]
  },
  {
   "cell_type": "code",
   "execution_count": null,
   "metadata": {},
   "outputs": [],
   "source": [
    "# from 'xxx' import 'xxx' as 'xxx' or import 'xxx' as 'xxx'\n",
    "from math import floor as f, pi as p\n",
    "\n",
    "f(p)"
   ]
  },
  {
   "cell_type": "markdown",
   "metadata": {},
   "source": [
    "##### Creating a Module"
   ]
  },
  {
   "cell_type": "code",
   "execution_count": null,
   "metadata": {},
   "outputs": [],
   "source": [
    "import module\n",
    "\n",
    "#or from module import printName\n",
    "\n",
    "module.printName('Kagondu')"
   ]
  },
  {
   "cell_type": "markdown",
   "metadata": {},
   "source": [
    "# Exercises"
   ]
  },
  {
   "cell_type": "markdown",
   "metadata": {},
   "source": [
    "### 1) Build a Shopping Cart <br>\n",
    "<p><b>You can use either lists or dictionaries. The program should have the following capabilities:</b><br><br>\n",
    "1) Takes in input <br>\n",
    "2) Stores user input into a dictionary or list <br>\n",
    "3) The User can add or delete items <br>\n",
    "4) The User can see current shopping list <br>\n",
    "5) The program Loops until user 'quits' <br>\n",
    "6) Upon quiting the program, print out all items in the user's list <br>\n",
    "</p>"
   ]
  },
  {
   "cell_type": "code",
   "execution_count": 32,
   "metadata": {},
   "outputs": [
    {
     "name": "stdout",
     "output_type": "stream",
     "text": [
      "Please enter a shopping item (type 'quit' to stop,'show list' to see list, 'remove' to remove item): ice\n",
      "Please enter a shopping item (type 'quit' to stop,'show list' to see list, 'remove' to remove item): fish\n",
      "Please enter a shopping item (type 'quit' to stop,'show list' to see list, 'remove' to remove item): juice\n",
      "Please enter a shopping item (type 'quit' to stop,'show list' to see list, 'remove' to remove item): chicken\n",
      "Please enter a shopping item (type 'quit' to stop,'show list' to see list, 'remove' to remove item): show list\n",
      "the list contains ['ice', 'fish', 'juice', 'chicken']\n",
      "Please enter a shopping item (type 'quit' to stop,'show list' to see list, 'remove' to remove item): remove\n",
      "what do you want to remove? fish\n",
      "fish has been removed from the list\n",
      "Please enter a shopping item (type 'quit' to stop,'show list' to see list, 'remove' to remove item): ice\n",
      "I guess you want more ice because it is already on the list\n",
      "Please enter a shopping item (type 'quit' to stop,'show list' to see list, 'remove' to remove item): quit\n",
      "the list contains ['ice', 'juice', 'chicken', 'ice']\n",
      "None\n"
     ]
    }
   ],
   "source": [
    "from IPython.display import clear_output\n",
    "\n",
    "# Ask the user four bits of input: Do you want to : Show/Add/Delete or Quit?\n",
    "\n",
    "\n",
    "\n",
    "\n",
    "shopping_list = []\n",
    "def todays_shopping(shop):\n",
    "    while True:\n",
    "        add_1 = input(\"Please enter a shopping item (type 'quit' to stop,'show list' to see list, 'remove' to remove item): \")\n",
    "        if add_1 in shopping_list:\n",
    "            print(f'I guess you want more {add_1} because it is already on the list')\n",
    "        if add_1 == 'quit':\n",
    "            print(f'the list contains {shopping_list}')\n",
    "            break\n",
    "        elif add_1 == 'show list':\n",
    "            print(f'the list contains {shopping_list}')\n",
    "        elif add_1 == 'remove':\n",
    "            add_2 = []\n",
    "            add_1 == add_2\n",
    "            add_2 = input(\"what do you want to remove? \")\n",
    "            if add_2 not in shopping_list:\n",
    "                print(f'{add_2} is not in the list')\n",
    "            elif add_2 in shopping_list:\n",
    "                shopping_list.remove(add_2)\n",
    "                print(f'{add_2} has been removed from the list')\n",
    "        else:\n",
    "            shopping_list.append(add_1)\n",
    "            \n",
    "    \n",
    "final_list = shopping_list\n",
    "\n",
    "print(todays_shopping(final_list))"
   ]
  },
  {
   "cell_type": "markdown",
   "metadata": {},
   "source": [
    "### 2) Create a Module in VS Code and Import It into jupyter notebook <br>\n",
    "<p><b>Module should have the following capabilities:</b><br><br>\n",
    "1) Has a function to calculate the square footage of a house <br>\n",
    "    <b>Reminder of Formula: Length X Width == Area<br>\n",
    "        <hr>\n",
    "2) Has a function to calculate the circumference of a circle <br><br>\n",
    "<b>Program in Jupyter Notebook should take in user input and use imported functions to calculate a circle's circumference or a houses square footage</b>\n",
    "</p>"
   ]
  },
  {
   "cell_type": "code",
   "execution_count": 16,
   "metadata": {},
   "outputs": [
    {
     "name": "stdout",
     "output_type": "stream",
     "text": [
      "What's the length of your house? give me a number in feet (just type the number): 50\n",
      "What's the width? give me a number in feet (just type the number: 50\n",
      "the area of this house is 2500 square foot\n"
     ]
    }
   ],
   "source": [
    "import mymodule\n",
    "\n",
    "print(mymodule.area4())"
   ]
  },
  {
   "cell_type": "code",
   "execution_count": 18,
   "metadata": {},
   "outputs": [
    {
     "name": "stdout",
     "output_type": "stream",
     "text": [
      "What's the radius of your house? Give me a number in feet (just type the number): 500\n",
      "the circumference of this house is 3140.0\n"
     ]
    }
   ],
   "source": [
    "print(mymodule.circum())"
   ]
  },
  {
   "cell_type": "code",
   "execution_count": null,
   "metadata": {},
   "outputs": [],
   "source": []
  }
 ],
 "metadata": {
  "kernelspec": {
   "display_name": "Python 3",
   "language": "python",
   "name": "python3"
  }
 },
 "nbformat": 4,
 "nbformat_minor": 2
}
